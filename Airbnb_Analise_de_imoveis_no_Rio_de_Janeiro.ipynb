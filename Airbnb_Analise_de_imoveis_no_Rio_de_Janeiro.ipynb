{
  "nbformat": 4,
  "nbformat_minor": 0,
  "metadata": {
    "colab": {
      "name": "Airbnb - Analise de imoveis no Rio de Janeiro.ipynb",
      "provenance": [],
      "collapsed_sections": [],
      "toc_visible": true,
      "authorship_tag": "ABX9TyNzhfeQYh0frwp9zJ0UyiDY",
      "include_colab_link": true
    },
    "kernelspec": {
      "name": "python3",
      "display_name": "Python 3"
    },
    "language_info": {
      "name": "python"
    }
  },
  "cells": [
    {
      "cell_type": "markdown",
      "metadata": {
        "id": "view-in-github",
        "colab_type": "text"
      },
      "source": [
        "<a href=\"https://colab.research.google.com/github/Jhonata-Tirloni/airbnb-RiodeJaneiro-imoveis/blob/main/Airbnb_Analise_de_imoveis_no_Rio_de_Janeiro.ipynb\" target=\"_parent\"><img src=\"https://colab.research.google.com/assets/colab-badge.svg\" alt=\"Open In Colab\"/></a>"
      ]
    },
    {
      "cell_type": "markdown",
      "source": [
        "# **Analise de Dados - Imoveis Airbnb Rio de Janeiro**\n",
        "\n",
        "  O Airbnb é considerado a maior empresa de hotelaria atualmente. Com uma abordagem disruptiva nos aluguéis de imóveis para viajantes, a empresa os conecta a anfitriões em várias regiões do mundo que estejam dispostos a alugar seus imóveis para temporadas de estadia. \n",
        "\n",
        "  Até o final de 2018, a empresa ja havia hospedado mais de 300 milhões de viajantes em todo o mundo! E no final de 2019 já eram mais de 500 milhões viajantes hospedados ao redor do globo.\n",
        "  \n",
        "  Através de uma iniciativa de disponibilização de dados da empresa (que podem ser encontrados atraves [deste link](http://insideairbnb.com/get-the-data.html)) sobre seus imóveis nas mais variadas regiões, **iremos analisar os dados disponibilizados da nossa querida capital carioca Rio de Janeiro!**"
      ],
      "metadata": {
        "id": "kGOjh7dCehE-"
      }
    },
    {
      "cell_type": "markdown",
      "source": [
        "## **Objetivo**\n",
        "\n",
        "Como objetivo deste estudo, espero identificar insights interessantes sobre os imóveis disponibilizados na região do Rio de Janeiro através da apresentação de dados comuns como preço médio de imóveis, dias de estadia, possíveis melhores regiões para estadia e outros.\n",
        "\n",
        "Através da visualização dos dados em gráficos plotados, também iremos comparar valores e tendências para identificar possíveis padrões interessantes que possam auxilíar novos viajantes que irão para região a ter o melhor custo benefício em sua estadia.\n"
      ],
      "metadata": {
        "id": "UJucTZhaft1t"
      }
    },
    {
      "cell_type": "markdown",
      "source": [
        "## **Obtenção dos dados**\n",
        "\n",
        "Novamente, todos os dados foram retirados do site oficial do Airbnb, que pode ser acessando clicando [aqui](http://insideairbnb.com/get-the-data.html).\n",
        "\n",
        "Iremos utilizar o seguinte arquivo:\n",
        "\n",
        "\n",
        "*   *listings.csv - Summary information and metrics for listings in Rio de Janeiro (good for visualizations).*\n",
        "\n"
      ],
      "metadata": {
        "id": "Ma-omVm8gmlK"
      }
    },
    {
      "cell_type": "code",
      "source": [
        "# Importacao das bibliotecas necessarias\n",
        "import pandas as pd\n",
        "import matplotlib.pyplot as plt\n",
        "import seaborn as sns\n",
        "\n",
        "# Alinhamento dos graficos na tela\n",
        "%matplotlib inline"
      ],
      "metadata": {
        "id": "qDA8Q1EAgiOy"
      },
      "execution_count": 1,
      "outputs": []
    },
    {
      "cell_type": "code",
      "source": [
        "# Importando a base de dados a partir da fonte citada anteriormente\n",
        "df = pd.read_csv(\"http://data.insideairbnb.com/brazil/rj/rio-de-janeiro/2021-12-24/visualisations/listings.csv\")"
      ],
      "metadata": {
        "id": "FeP5eljPhaUq"
      },
      "execution_count": 2,
      "outputs": []
    },
    {
      "cell_type": "markdown",
      "source": [
        "## **Exploração dos dados**\n",
        "\n",
        "Nesta etapa iremos explorar, de forma simples e concisa, os dados disponibilizados pela empresa e carregados anteriormente. A intensão é poder identificarmos as features e atributes do banco de dados, bem como a estrutura de suas variáveis."
      ],
      "metadata": {
        "id": "DAX6hGD7hyNk"
      }
    },
    {
      "cell_type": "markdown",
      "source": [
        "### **Dicionário de Dados**\n",
        "\n",
        "Confira abaixo o que cada coluna significa dentro da base de dados que iremos analisar!\n",
        "* **id:** Chave única da base de dados utilizada pelo Airbnb\n",
        "* **name:** Titulo da pousada que se encontra no Airbnb\n",
        "* **host_id:** Código único do host da pousada\n",
        "* **host_name:** Nome do host da pousada\n",
        "* **neighbourhood_group:** Geocódigo da região da hospedagem gerado através de latitude e longitude\n",
        "* **neighbourhood:** Vizinhança/bairro que se localiza a hospedagem\n",
        "* **latitude:** Código geográfico latitudinal da hospedagem\n",
        "* **longitude:** Código geográfico longitudinal da hospedagem\n",
        "* **room_type:** Tipo de hospedagem (quarto, apartamento inteiro, casa inteira etc)\n",
        "* **price:** Preço da diária em moeda local (reais)\n",
        "* **minimum_nights:** Quantidade minima de noites para ficar na hospedagem\n",
        "* **number_of_reviews:** Quantidade de reviews que a hospedagem possuí\n",
        "* **last_review:** Data da última review feita\n",
        "* **calculated_host_listings_count**: Quantidade de hospedagems que o host possui na região\n",
        "* **availability_365:** Quantidade de dias que a hospdagem fica disponível para poder ser alugada (não confundir com a qtd. de dias que a mesma fica alugada)\n",
        "* **number_of_reviews_ltm:** Número de reviews nos últimos 12 meses que a hospedagem teve\n"
      ],
      "metadata": {
        "id": "FfHi2k2mh96D"
      }
    },
    {
      "cell_type": "markdown",
      "source": [
        "### **Q1. Qual a estrutura inicial dos registros da tabela?**"
      ],
      "metadata": {
        "id": "FV1dGXFki4JS"
      }
    },
    {
      "cell_type": "code",
      "source": [
        "df.head()"
      ],
      "metadata": {
        "colab": {
          "base_uri": "https://localhost:8080/",
          "height": 583
        },
        "id": "c3ei_KXNinAw",
        "outputId": "e6aecbea-f0d9-49fb-8a3c-40356d171167"
      },
      "execution_count": 3,
      "outputs": [
        {
          "output_type": "execute_result",
          "data": {
            "text/html": [
              "\n",
              "  <div id=\"df-b8299287-63d4-4066-8514-ba0b255032ac\">\n",
              "    <div class=\"colab-df-container\">\n",
              "      <div>\n",
              "<style scoped>\n",
              "    .dataframe tbody tr th:only-of-type {\n",
              "        vertical-align: middle;\n",
              "    }\n",
              "\n",
              "    .dataframe tbody tr th {\n",
              "        vertical-align: top;\n",
              "    }\n",
              "\n",
              "    .dataframe thead th {\n",
              "        text-align: right;\n",
              "    }\n",
              "</style>\n",
              "<table border=\"1\" class=\"dataframe\">\n",
              "  <thead>\n",
              "    <tr style=\"text-align: right;\">\n",
              "      <th></th>\n",
              "      <th>id</th>\n",
              "      <th>name</th>\n",
              "      <th>host_id</th>\n",
              "      <th>host_name</th>\n",
              "      <th>neighbourhood_group</th>\n",
              "      <th>neighbourhood</th>\n",
              "      <th>latitude</th>\n",
              "      <th>longitude</th>\n",
              "      <th>room_type</th>\n",
              "      <th>price</th>\n",
              "      <th>minimum_nights</th>\n",
              "      <th>number_of_reviews</th>\n",
              "      <th>last_review</th>\n",
              "      <th>reviews_per_month</th>\n",
              "      <th>calculated_host_listings_count</th>\n",
              "      <th>availability_365</th>\n",
              "      <th>number_of_reviews_ltm</th>\n",
              "      <th>license</th>\n",
              "    </tr>\n",
              "  </thead>\n",
              "  <tbody>\n",
              "    <tr>\n",
              "      <th>0</th>\n",
              "      <td>17878</td>\n",
              "      <td>Very Nice 2Br in Copacabana w. balcony, fast WiFi</td>\n",
              "      <td>68997</td>\n",
              "      <td>Matthias</td>\n",
              "      <td>NaN</td>\n",
              "      <td>Copacabana</td>\n",
              "      <td>-22.96599</td>\n",
              "      <td>-43.17940</td>\n",
              "      <td>Entire home/apt</td>\n",
              "      <td>350</td>\n",
              "      <td>5</td>\n",
              "      <td>267</td>\n",
              "      <td>2021-12-03</td>\n",
              "      <td>1.92</td>\n",
              "      <td>1</td>\n",
              "      <td>257</td>\n",
              "      <td>10</td>\n",
              "      <td>NaN</td>\n",
              "    </tr>\n",
              "    <tr>\n",
              "      <th>1</th>\n",
              "      <td>24480</td>\n",
              "      <td>Nice and cozy near Ipanema Beach, w/ home office</td>\n",
              "      <td>99249</td>\n",
              "      <td>Goya</td>\n",
              "      <td>NaN</td>\n",
              "      <td>Ipanema</td>\n",
              "      <td>-22.98405</td>\n",
              "      <td>-43.20189</td>\n",
              "      <td>Entire home/apt</td>\n",
              "      <td>296</td>\n",
              "      <td>3</td>\n",
              "      <td>85</td>\n",
              "      <td>2018-02-14</td>\n",
              "      <td>0.62</td>\n",
              "      <td>1</td>\n",
              "      <td>107</td>\n",
              "      <td>0</td>\n",
              "      <td>NaN</td>\n",
              "    </tr>\n",
              "    <tr>\n",
              "      <th>2</th>\n",
              "      <td>25026</td>\n",
              "      <td>Beautiful Modern Decorated Studio in Copa</td>\n",
              "      <td>102840</td>\n",
              "      <td>Viviane</td>\n",
              "      <td>NaN</td>\n",
              "      <td>Copacabana</td>\n",
              "      <td>-22.97735</td>\n",
              "      <td>-43.19105</td>\n",
              "      <td>Entire home/apt</td>\n",
              "      <td>387</td>\n",
              "      <td>3</td>\n",
              "      <td>238</td>\n",
              "      <td>2020-02-15</td>\n",
              "      <td>1.69</td>\n",
              "      <td>1</td>\n",
              "      <td>206</td>\n",
              "      <td>0</td>\n",
              "      <td>NaN</td>\n",
              "    </tr>\n",
              "    <tr>\n",
              "      <th>3</th>\n",
              "      <td>35636</td>\n",
              "      <td>Cosy flat close to Ipanema beach</td>\n",
              "      <td>153232</td>\n",
              "      <td>Patricia</td>\n",
              "      <td>NaN</td>\n",
              "      <td>Ipanema</td>\n",
              "      <td>-22.98839</td>\n",
              "      <td>-43.19232</td>\n",
              "      <td>Entire home/apt</td>\n",
              "      <td>172</td>\n",
              "      <td>2</td>\n",
              "      <td>181</td>\n",
              "      <td>2020-03-15</td>\n",
              "      <td>1.82</td>\n",
              "      <td>1</td>\n",
              "      <td>207</td>\n",
              "      <td>0</td>\n",
              "      <td>NaN</td>\n",
              "    </tr>\n",
              "    <tr>\n",
              "      <th>4</th>\n",
              "      <td>35764</td>\n",
              "      <td>COPACABANA SEA BREEZE  -  RIO - 20 X Superhost</td>\n",
              "      <td>153691</td>\n",
              "      <td>Patricia Miranda &amp; Paulo</td>\n",
              "      <td>NaN</td>\n",
              "      <td>Copacabana</td>\n",
              "      <td>-22.98107</td>\n",
              "      <td>-43.19136</td>\n",
              "      <td>Entire home/apt</td>\n",
              "      <td>260</td>\n",
              "      <td>3</td>\n",
              "      <td>378</td>\n",
              "      <td>2021-12-05</td>\n",
              "      <td>2.76</td>\n",
              "      <td>1</td>\n",
              "      <td>58</td>\n",
              "      <td>32</td>\n",
              "      <td>NaN</td>\n",
              "    </tr>\n",
              "  </tbody>\n",
              "</table>\n",
              "</div>\n",
              "      <button class=\"colab-df-convert\" onclick=\"convertToInteractive('df-b8299287-63d4-4066-8514-ba0b255032ac')\"\n",
              "              title=\"Convert this dataframe to an interactive table.\"\n",
              "              style=\"display:none;\">\n",
              "        \n",
              "  <svg xmlns=\"http://www.w3.org/2000/svg\" height=\"24px\"viewBox=\"0 0 24 24\"\n",
              "       width=\"24px\">\n",
              "    <path d=\"M0 0h24v24H0V0z\" fill=\"none\"/>\n",
              "    <path d=\"M18.56 5.44l.94 2.06.94-2.06 2.06-.94-2.06-.94-.94-2.06-.94 2.06-2.06.94zm-11 1L8.5 8.5l.94-2.06 2.06-.94-2.06-.94L8.5 2.5l-.94 2.06-2.06.94zm10 10l.94 2.06.94-2.06 2.06-.94-2.06-.94-.94-2.06-.94 2.06-2.06.94z\"/><path d=\"M17.41 7.96l-1.37-1.37c-.4-.4-.92-.59-1.43-.59-.52 0-1.04.2-1.43.59L10.3 9.45l-7.72 7.72c-.78.78-.78 2.05 0 2.83L4 21.41c.39.39.9.59 1.41.59.51 0 1.02-.2 1.41-.59l7.78-7.78 2.81-2.81c.8-.78.8-2.07 0-2.86zM5.41 20L4 18.59l7.72-7.72 1.47 1.35L5.41 20z\"/>\n",
              "  </svg>\n",
              "      </button>\n",
              "      \n",
              "  <style>\n",
              "    .colab-df-container {\n",
              "      display:flex;\n",
              "      flex-wrap:wrap;\n",
              "      gap: 12px;\n",
              "    }\n",
              "\n",
              "    .colab-df-convert {\n",
              "      background-color: #E8F0FE;\n",
              "      border: none;\n",
              "      border-radius: 50%;\n",
              "      cursor: pointer;\n",
              "      display: none;\n",
              "      fill: #1967D2;\n",
              "      height: 32px;\n",
              "      padding: 0 0 0 0;\n",
              "      width: 32px;\n",
              "    }\n",
              "\n",
              "    .colab-df-convert:hover {\n",
              "      background-color: #E2EBFA;\n",
              "      box-shadow: 0px 1px 2px rgba(60, 64, 67, 0.3), 0px 1px 3px 1px rgba(60, 64, 67, 0.15);\n",
              "      fill: #174EA6;\n",
              "    }\n",
              "\n",
              "    [theme=dark] .colab-df-convert {\n",
              "      background-color: #3B4455;\n",
              "      fill: #D2E3FC;\n",
              "    }\n",
              "\n",
              "    [theme=dark] .colab-df-convert:hover {\n",
              "      background-color: #434B5C;\n",
              "      box-shadow: 0px 1px 3px 1px rgba(0, 0, 0, 0.15);\n",
              "      filter: drop-shadow(0px 1px 2px rgba(0, 0, 0, 0.3));\n",
              "      fill: #FFFFFF;\n",
              "    }\n",
              "  </style>\n",
              "\n",
              "      <script>\n",
              "        const buttonEl =\n",
              "          document.querySelector('#df-b8299287-63d4-4066-8514-ba0b255032ac button.colab-df-convert');\n",
              "        buttonEl.style.display =\n",
              "          google.colab.kernel.accessAllowed ? 'block' : 'none';\n",
              "\n",
              "        async function convertToInteractive(key) {\n",
              "          const element = document.querySelector('#df-b8299287-63d4-4066-8514-ba0b255032ac');\n",
              "          const dataTable =\n",
              "            await google.colab.kernel.invokeFunction('convertToInteractive',\n",
              "                                                     [key], {});\n",
              "          if (!dataTable) return;\n",
              "\n",
              "          const docLinkHtml = 'Like what you see? Visit the ' +\n",
              "            '<a target=\"_blank\" href=https://colab.research.google.com/notebooks/data_table.ipynb>data table notebook</a>'\n",
              "            + ' to learn more about interactive tables.';\n",
              "          element.innerHTML = '';\n",
              "          dataTable['output_type'] = 'display_data';\n",
              "          await google.colab.output.renderOutput(dataTable, element);\n",
              "          const docLink = document.createElement('div');\n",
              "          docLink.innerHTML = docLinkHtml;\n",
              "          element.appendChild(docLink);\n",
              "        }\n",
              "      </script>\n",
              "    </div>\n",
              "  </div>\n",
              "  "
            ],
            "text/plain": [
              "      id  ... license\n",
              "0  17878  ...     NaN\n",
              "1  24480  ...     NaN\n",
              "2  25026  ...     NaN\n",
              "3  35636  ...     NaN\n",
              "4  35764  ...     NaN\n",
              "\n",
              "[5 rows x 18 columns]"
            ]
          },
          "metadata": {},
          "execution_count": 3
        }
      ]
    },
    {
      "cell_type": "markdown",
      "source": [
        "### **Q2. Como estão estruturados as features e variables, e quantas existem?**"
      ],
      "metadata": {
        "id": "xFF7Z-Q8kmCQ"
      }
    },
    {
      "cell_type": "code",
      "source": [
        "print(\"Quantidade de features: {}\".format(df.shape[0]))\n",
        "print(\"Quantidade de variables: {} \\n\".format(+df.shape[1]))\n",
        "\n",
        "print(\"Estrutura das variables presentes:\")\n",
        "df.dtypes"
      ],
      "metadata": {
        "colab": {
          "base_uri": "https://localhost:8080/"
        },
        "id": "8hsmhDXui53Z",
        "outputId": "16d49827-a562-4943-fda2-a8c30d6903d8"
      },
      "execution_count": 4,
      "outputs": [
        {
          "output_type": "stream",
          "name": "stdout",
          "text": [
            "Quantidade de features: 24549\n",
            "Quantidade de variables: 18 \n",
            "\n",
            "Estrutura das variables presentes:\n"
          ]
        },
        {
          "output_type": "execute_result",
          "data": {
            "text/plain": [
              "id                                  int64\n",
              "name                               object\n",
              "host_id                             int64\n",
              "host_name                          object\n",
              "neighbourhood_group               float64\n",
              "neighbourhood                      object\n",
              "latitude                          float64\n",
              "longitude                         float64\n",
              "room_type                          object\n",
              "price                               int64\n",
              "minimum_nights                      int64\n",
              "number_of_reviews                   int64\n",
              "last_review                        object\n",
              "reviews_per_month                 float64\n",
              "calculated_host_listings_count      int64\n",
              "availability_365                    int64\n",
              "number_of_reviews_ltm               int64\n",
              "license                           float64\n",
              "dtype: object"
            ]
          },
          "metadata": {},
          "execution_count": 4
        }
      ]
    },
    {
      "cell_type": "code",
      "source": [
        "df.count()"
      ],
      "metadata": {
        "colab": {
          "base_uri": "https://localhost:8080/"
        },
        "id": "wOsA35KkD3LY",
        "outputId": "14753bf9-a961-4e2c-ce8e-2bf61c8aa683"
      },
      "execution_count": 5,
      "outputs": [
        {
          "output_type": "execute_result",
          "data": {
            "text/plain": [
              "id                                24549\n",
              "name                              24528\n",
              "host_id                           24549\n",
              "host_name                         24534\n",
              "neighbourhood_group                   0\n",
              "neighbourhood                     24549\n",
              "latitude                          24549\n",
              "longitude                         24549\n",
              "room_type                         24549\n",
              "price                             24549\n",
              "minimum_nights                    24549\n",
              "number_of_reviews                 24549\n",
              "last_review                       15588\n",
              "reviews_per_month                 15588\n",
              "calculated_host_listings_count    24549\n",
              "availability_365                  24549\n",
              "number_of_reviews_ltm             24549\n",
              "license                               0\n",
              "dtype: int64"
            ]
          },
          "metadata": {},
          "execution_count": 5
        }
      ]
    },
    {
      "cell_type": "markdown",
      "source": [
        "### **Q3. A partir de uma análise rapida, quais os pontos que mais chamam atenção nas variáveis numericas?**"
      ],
      "metadata": {
        "id": "wwMpGCHEsInr"
      }
    },
    {
      "cell_type": "code",
      "source": [
        "df[['price', 'minimum_nights', 'number_of_reviews', 'reviews_per_month', 'calculated_host_listings_count', 'availability_365', 'number_of_reviews_ltm']].describe()"
      ],
      "metadata": {
        "colab": {
          "base_uri": "https://localhost:8080/",
          "height": 364
        },
        "id": "QOC1-4eOitbI",
        "outputId": "d96152ab-ec6e-45ee-e135-f6e6ffa6e1c1"
      },
      "execution_count": 6,
      "outputs": [
        {
          "output_type": "execute_result",
          "data": {
            "text/html": [
              "\n",
              "  <div id=\"df-0895b912-b0f1-4505-986c-8e71d633c5c2\">\n",
              "    <div class=\"colab-df-container\">\n",
              "      <div>\n",
              "<style scoped>\n",
              "    .dataframe tbody tr th:only-of-type {\n",
              "        vertical-align: middle;\n",
              "    }\n",
              "\n",
              "    .dataframe tbody tr th {\n",
              "        vertical-align: top;\n",
              "    }\n",
              "\n",
              "    .dataframe thead th {\n",
              "        text-align: right;\n",
              "    }\n",
              "</style>\n",
              "<table border=\"1\" class=\"dataframe\">\n",
              "  <thead>\n",
              "    <tr style=\"text-align: right;\">\n",
              "      <th></th>\n",
              "      <th>price</th>\n",
              "      <th>minimum_nights</th>\n",
              "      <th>number_of_reviews</th>\n",
              "      <th>reviews_per_month</th>\n",
              "      <th>calculated_host_listings_count</th>\n",
              "      <th>availability_365</th>\n",
              "      <th>number_of_reviews_ltm</th>\n",
              "    </tr>\n",
              "  </thead>\n",
              "  <tbody>\n",
              "    <tr>\n",
              "      <th>count</th>\n",
              "      <td>24549.000000</td>\n",
              "      <td>24549.000000</td>\n",
              "      <td>24549.000000</td>\n",
              "      <td>15588.000000</td>\n",
              "      <td>24549.000000</td>\n",
              "      <td>24549.000000</td>\n",
              "      <td>24549.000000</td>\n",
              "    </tr>\n",
              "    <tr>\n",
              "      <th>mean</th>\n",
              "      <td>1029.592285</td>\n",
              "      <td>5.092142</td>\n",
              "      <td>14.506416</td>\n",
              "      <td>0.691929</td>\n",
              "      <td>7.066642</td>\n",
              "      <td>218.954907</td>\n",
              "      <td>3.584179</td>\n",
              "    </tr>\n",
              "    <tr>\n",
              "      <th>std</th>\n",
              "      <td>5403.742297</td>\n",
              "      <td>21.211509</td>\n",
              "      <td>34.054009</td>\n",
              "      <td>0.935476</td>\n",
              "      <td>20.046954</td>\n",
              "      <td>133.727245</td>\n",
              "      <td>8.345567</td>\n",
              "    </tr>\n",
              "    <tr>\n",
              "      <th>min</th>\n",
              "      <td>0.000000</td>\n",
              "      <td>1.000000</td>\n",
              "      <td>0.000000</td>\n",
              "      <td>0.010000</td>\n",
              "      <td>1.000000</td>\n",
              "      <td>0.000000</td>\n",
              "      <td>0.000000</td>\n",
              "    </tr>\n",
              "    <tr>\n",
              "      <th>25%</th>\n",
              "      <td>250.000000</td>\n",
              "      <td>2.000000</td>\n",
              "      <td>0.000000</td>\n",
              "      <td>0.090000</td>\n",
              "      <td>1.000000</td>\n",
              "      <td>86.000000</td>\n",
              "      <td>0.000000</td>\n",
              "    </tr>\n",
              "    <tr>\n",
              "      <th>50%</th>\n",
              "      <td>479.000000</td>\n",
              "      <td>3.000000</td>\n",
              "      <td>2.000000</td>\n",
              "      <td>0.310000</td>\n",
              "      <td>1.000000</td>\n",
              "      <td>257.000000</td>\n",
              "      <td>0.000000</td>\n",
              "    </tr>\n",
              "    <tr>\n",
              "      <th>75%</th>\n",
              "      <td>900.000000</td>\n",
              "      <td>4.000000</td>\n",
              "      <td>12.000000</td>\n",
              "      <td>0.962500</td>\n",
              "      <td>4.000000</td>\n",
              "      <td>355.000000</td>\n",
              "      <td>3.000000</td>\n",
              "    </tr>\n",
              "    <tr>\n",
              "      <th>max</th>\n",
              "      <td>650476.000000</td>\n",
              "      <td>1000.000000</td>\n",
              "      <td>504.000000</td>\n",
              "      <td>21.790000</td>\n",
              "      <td>176.000000</td>\n",
              "      <td>365.000000</td>\n",
              "      <td>267.000000</td>\n",
              "    </tr>\n",
              "  </tbody>\n",
              "</table>\n",
              "</div>\n",
              "      <button class=\"colab-df-convert\" onclick=\"convertToInteractive('df-0895b912-b0f1-4505-986c-8e71d633c5c2')\"\n",
              "              title=\"Convert this dataframe to an interactive table.\"\n",
              "              style=\"display:none;\">\n",
              "        \n",
              "  <svg xmlns=\"http://www.w3.org/2000/svg\" height=\"24px\"viewBox=\"0 0 24 24\"\n",
              "       width=\"24px\">\n",
              "    <path d=\"M0 0h24v24H0V0z\" fill=\"none\"/>\n",
              "    <path d=\"M18.56 5.44l.94 2.06.94-2.06 2.06-.94-2.06-.94-.94-2.06-.94 2.06-2.06.94zm-11 1L8.5 8.5l.94-2.06 2.06-.94-2.06-.94L8.5 2.5l-.94 2.06-2.06.94zm10 10l.94 2.06.94-2.06 2.06-.94-2.06-.94-.94-2.06-.94 2.06-2.06.94z\"/><path d=\"M17.41 7.96l-1.37-1.37c-.4-.4-.92-.59-1.43-.59-.52 0-1.04.2-1.43.59L10.3 9.45l-7.72 7.72c-.78.78-.78 2.05 0 2.83L4 21.41c.39.39.9.59 1.41.59.51 0 1.02-.2 1.41-.59l7.78-7.78 2.81-2.81c.8-.78.8-2.07 0-2.86zM5.41 20L4 18.59l7.72-7.72 1.47 1.35L5.41 20z\"/>\n",
              "  </svg>\n",
              "      </button>\n",
              "      \n",
              "  <style>\n",
              "    .colab-df-container {\n",
              "      display:flex;\n",
              "      flex-wrap:wrap;\n",
              "      gap: 12px;\n",
              "    }\n",
              "\n",
              "    .colab-df-convert {\n",
              "      background-color: #E8F0FE;\n",
              "      border: none;\n",
              "      border-radius: 50%;\n",
              "      cursor: pointer;\n",
              "      display: none;\n",
              "      fill: #1967D2;\n",
              "      height: 32px;\n",
              "      padding: 0 0 0 0;\n",
              "      width: 32px;\n",
              "    }\n",
              "\n",
              "    .colab-df-convert:hover {\n",
              "      background-color: #E2EBFA;\n",
              "      box-shadow: 0px 1px 2px rgba(60, 64, 67, 0.3), 0px 1px 3px 1px rgba(60, 64, 67, 0.15);\n",
              "      fill: #174EA6;\n",
              "    }\n",
              "\n",
              "    [theme=dark] .colab-df-convert {\n",
              "      background-color: #3B4455;\n",
              "      fill: #D2E3FC;\n",
              "    }\n",
              "\n",
              "    [theme=dark] .colab-df-convert:hover {\n",
              "      background-color: #434B5C;\n",
              "      box-shadow: 0px 1px 3px 1px rgba(0, 0, 0, 0.15);\n",
              "      filter: drop-shadow(0px 1px 2px rgba(0, 0, 0, 0.3));\n",
              "      fill: #FFFFFF;\n",
              "    }\n",
              "  </style>\n",
              "\n",
              "      <script>\n",
              "        const buttonEl =\n",
              "          document.querySelector('#df-0895b912-b0f1-4505-986c-8e71d633c5c2 button.colab-df-convert');\n",
              "        buttonEl.style.display =\n",
              "          google.colab.kernel.accessAllowed ? 'block' : 'none';\n",
              "\n",
              "        async function convertToInteractive(key) {\n",
              "          const element = document.querySelector('#df-0895b912-b0f1-4505-986c-8e71d633c5c2');\n",
              "          const dataTable =\n",
              "            await google.colab.kernel.invokeFunction('convertToInteractive',\n",
              "                                                     [key], {});\n",
              "          if (!dataTable) return;\n",
              "\n",
              "          const docLinkHtml = 'Like what you see? Visit the ' +\n",
              "            '<a target=\"_blank\" href=https://colab.research.google.com/notebooks/data_table.ipynb>data table notebook</a>'\n",
              "            + ' to learn more about interactive tables.';\n",
              "          element.innerHTML = '';\n",
              "          dataTable['output_type'] = 'display_data';\n",
              "          await google.colab.output.renderOutput(dataTable, element);\n",
              "          const docLink = document.createElement('div');\n",
              "          docLink.innerHTML = docLinkHtml;\n",
              "          element.appendChild(docLink);\n",
              "        }\n",
              "      </script>\n",
              "    </div>\n",
              "  </div>\n",
              "  "
            ],
            "text/plain": [
              "               price  minimum_nights  ...  availability_365  number_of_reviews_ltm\n",
              "count   24549.000000    24549.000000  ...      24549.000000           24549.000000\n",
              "mean     1029.592285        5.092142  ...        218.954907               3.584179\n",
              "std      5403.742297       21.211509  ...        133.727245               8.345567\n",
              "min         0.000000        1.000000  ...          0.000000               0.000000\n",
              "25%       250.000000        2.000000  ...         86.000000               0.000000\n",
              "50%       479.000000        3.000000  ...        257.000000               0.000000\n",
              "75%       900.000000        4.000000  ...        355.000000               3.000000\n",
              "max    650476.000000     1000.000000  ...        365.000000             267.000000\n",
              "\n",
              "[8 rows x 7 columns]"
            ]
          },
          "metadata": {},
          "execution_count": 6
        }
      ]
    },
    {
      "cell_type": "markdown",
      "source": [
        "Através das descrições acima, temos pontos interessantes a ser considerados:\n",
        "\n",
        "\n",
        "1.   O preço médio das pousadas giram em torno de R$ 1.029,59;\n",
        "2.   O valor alto acima pode ser justificado devido a média do minimo de noites para se hospedar, que giram em torno de 5 noites;\n",
        "3. Temos um desvio padrão alto de preços de 21 pontos (ou seja, os precos são bem dispersos! o que faz sentido devido a região turística de Rio de Janeiro que, geralmente, tem um grande peso no valor de hospedagem! E ainda mais com uma média de pernoites grande como citado anteriormente).\n",
        "4. As hospedagems possuem uma média de 14 reviews no geral, porém com uma média de menos de uma review por mês (aparentemente viajantes são meio timidos com suas opiniões ☺)\n",
        "5. As hospedagens ficam disponíveis, em média, 218 dias no ano! Um número ótimo considerando que várias pousadas no Rio de Janeiro geralmente ficam disponíveis apenas para aluguéis em temporadas específicas.\n",
        "\n"
      ],
      "metadata": {
        "id": "CwXcrCYWsXh6"
      }
    },
    {
      "cell_type": "markdown",
      "source": [
        "## **Visualizações (análises gráficas)** \n",
        "\n",
        "Que tal começarmos a plotar alguns gráficos para identificarmos como essas pousadas se comportam comparadas umas as outras? Vamos lá!\n",
        "\n"
      ],
      "metadata": {
        "id": "TFDUGbTPlq_Q"
      }
    },
    {
      "cell_type": "markdown",
      "source": [
        "### **Q1. Quais os tipos de hospedagems e quantas temos em cada categoria?**"
      ],
      "metadata": {
        "id": "609Xc3BzosXW"
      }
    },
    {
      "cell_type": "code",
      "source": [
        "p1 = sns.countplot(x=df['room_type'], palette='Greens_r')\n",
        "plt.title('Quantidade de hospedagems por categoria de quartos')\n",
        "plt.xlabel('Categorias de hospedagens')\n",
        "plt.ylabel('Quantidade')\n",
        "p1.bar_label(p1.containers[0])"
      ],
      "metadata": {
        "colab": {
          "base_uri": "https://localhost:8080/",
          "height": 422
        },
        "id": "NqNfLgvroZro",
        "outputId": "0e3b2002-68ef-4055-f330-9bad9ae8a281"
      },
      "execution_count": 77,
      "outputs": [
        {
          "output_type": "execute_result",
          "data": {
            "text/plain": [
              "[Text(0, 0, '18564'), Text(0, 0, '5415'), Text(0, 0, '494'), Text(0, 0, '76')]"
            ]
          },
          "metadata": {},
          "execution_count": 77
        },
        {
          "output_type": "display_data",
          "data": {
            "image/png": "[encoded data removed]",
            "text/plain": [
              "<Figure size 1440x504 with 1 Axes>"
            ]
          },
          "metadata": {}
        }
      ]
    },
    {
      "cell_type": "markdown",
      "source": [
        "Como podemos perceber pelo gráfico acima, a maioria esmagadora de hospedagem trata-se de casas ou apartamentos inteiros! Seguido por quartos privados, quartos compartilhados e, por ultimo, quartos de hotel.\n",
        "\n",
        "Outro ponto bem interessante sobre esse gráfico é poder perceber como a Airbnb consegue inverter o mercado. Quebrando os antigos paradigmas do grande mercado de hotelaria, no Airbnb 75,62% de todas as opções tratam-se de casas ou apartamentos inteiros. Ainda mais interessante é saber que apenas 0.003% de todas suas opções no Rio de Janeiro são apenas quartos de hotéis.\n",
        "\n",
        "Comparando-se com uma hotelaria tradicional, o AirBNB veio para mostrar como se deve inovar em hospedagems!"
      ],
      "metadata": {
        "id": "30lYFzfEy_z9"
      }
    },
    {
      "cell_type": "markdown",
      "source": [
        "### **Q2. Quantas hospedagens temos por vizinhança?**"
      ],
      "metadata": {
        "id": "-GfHdnbpFyZj"
      }
    },
    {
      "cell_type": "code",
      "source": [
        "neighbourhood_selected = df.groupby('neighbourhood', as_index=False).count()\n",
        "neighbourhood_selected = neighbourhood_selected.sort_values(by='id',ascending=False)\n",
        "neighbourhood_selected = neighbourhood_selected[:10]\n",
        "\n",
        "\n",
        "p2 = sns.barplot(x=neighbourhood_selected['neighbourhood'], y=neighbourhood_selected['id'], palette='Greens_r')\n",
        "plt.xlabel('Bairros')\n",
        "plt.ylabel('Qtd. de Hospedagens')\n",
        "plt.title('Top qtd. de hospedagens, por bairro')\n",
        "p2.bar_label(p2.containers[0])\n",
        "\n",
        "sns.set(rc={'figure.figsize':('20,7')})"
      ],
      "metadata": {
        "colab": {
          "base_uri": "https://localhost:8080/",
          "height": 407
        },
        "id": "4Mx1MctMF83j",
        "outputId": "c143dcf2-3cf8-4d66-c4b8-07cb41767327"
      },
      "execution_count": 75,
      "outputs": [
        {
          "output_type": "display_data",
          "data": {
            "image/png": "[encoded data removed]",
            "text/plain": [
              "<Figure size 1440x504 with 1 Axes>"
            ]
          },
          "metadata": {}
        }
      ]
    },
    {
      "cell_type": "markdown",
      "source": [
        "Aqui temos um top 10 dos bairros com maior quantidade de hospedagens disponíveis. Naturalmente, os bairros de maior incidência turística são os que mais possuem hospdagens disponíveis para aluguel. \n",
        "\n",
        "Assim, os três bairros com maior prefrência são aqueles que possuem vistas e localizações diretas com o mar! Se quiser pegar um sol e se bronzear no calorzão de RJ, prefira os bairros demonstrados no gráfico acima. \n",
        "\n",
        "Importante notar que vale uma pesquisa sobre periculisdade da região! Jacarepaguá, por exemplo, possui regiões que são mais distantes de vistas para a praia e até mesmo já levou titulo de bairro mais perigoso de RJ."
      ],
      "metadata": {
        "id": "VN8w66cJWDz5"
      }
    },
    {
      "cell_type": "markdown",
      "source": [
        "### **Q2. Qual a variação dos preços?**"
      ],
      "metadata": {
        "id": "BlFeVM6XXtuV"
      }
    },
    {
      "cell_type": "code",
      "source": [
        "neighbourhood_selected['price'].describe()"
      ],
      "metadata": {
        "colab": {
          "base_uri": "https://localhost:8080/"
        },
        "id": "sMpSRW9NXyvb",
        "outputId": "90a8239f-2465-4028-bb5e-9e43a8313fc5"
      },
      "execution_count": 92,
      "outputs": [
        {
          "output_type": "execute_result",
          "data": {
            "text/plain": [
              "count      10.000000\n",
              "mean     1880.600000\n",
              "std      1990.377753\n",
              "min       547.000000\n",
              "25%       942.750000\n",
              "50%      1122.000000\n",
              "75%      2139.750000\n",
              "max      7220.000000\n",
              "Name: price, dtype: float64"
            ]
          },
          "metadata": {},
          "execution_count": 92
        }
      ]
    },
    {
      "cell_type": "markdown",
      "source": [
        "Pela tabela acima, podemos perceber que dentro o top 10 bairros que selecionamos anteriormente, a média de preços é de **R$1.880,60**, o que é um preço um pouco alto.\n",
        "\n",
        "Outro detalhe interessante é que o mais barato gira em torno de **R\\$ 547,00** e o mais caro **R$7.220,00**. Assim, vale ressaltar a importância da pesquisa de hotelarias dentro do app! Com um desvio padrão de incriveis 1990 (nos indicando o quanto a variação de preços é grande), é extremamente recomendável comparar os valores antes de selecionar um local apenas pelo nome ou indicações. Os preços variam da terra até a lua!"
      ],
      "metadata": {
        "id": "pQk_ReQWnWVD"
      }
    },
    {
      "cell_type": "markdown",
      "source": [
        "## **Conclusão**"
      ],
      "metadata": {
        "id": "Mzpw_lMXoPAM"
      }
    },
    {
      "cell_type": "markdown",
      "source": [
        "Como podemos perceber, o Airbnb vem transformando todo o negócio de hotelaria nos locais em que se encontra! No Rio de Janeiro, foco dos nosso estudo descritivo aqui, existem diversas hospedagems das mais variadas categorias, locais, preços e modelos! \n",
        "\n",
        "A alguns anos atrás, o modelo de hotelaria continuava engessado no famoso modelo de quarto. Hoje através do Airbnb conseguimos locar apartamentos, casas e até mesmo quartos tradicionais por maiores quantidades de dias e, muitas vezes, preços mais baratos do que a concorrência.\n",
        "\n",
        "Mas, como nem tudo são flores, também pudemos perceber neste estudo que é de extrema importância pesquisar e comparar os preços antes de qualquer locação. Devido ao tipo e categoria da hospedagem, pode-se economizar muito e aproveitar mais ainda se alocando em bairros privilegiados selecionados.\n",
        "\n",
        "Sem dúvidas, Rio de Janeiro é uma cidade maravilhosa e, certamente, cheia de oportunidades! Vale a visita!"
      ],
      "metadata": {
        "id": "UqQrUAeWoZpj"
      }
    },
    {
      "cell_type": "markdown",
      "source": [
        "\n",
        "\n",
        "---\n",
        "\n"
      ],
      "metadata": {
        "id": "oNkMyBHBpmL9"
      }
    },
    {
      "cell_type": "markdown",
      "source": [
        "E aqui concluímos nosso estudo! ✅"
      ],
      "metadata": {
        "id": "02-e6oFRpflE"
      }
    }
  ]
}