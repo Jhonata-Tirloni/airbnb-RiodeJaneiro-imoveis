{
  "nbformat": 4,
  "nbformat_minor": 0,
  "metadata": {
    "colab": {
      "name": "Curso 1. Machine Learning: Introdução a classificação com SKLEARN",
      "provenance": [],
      "toc_visible": true,
      "authorship_tag": "ABX9TyNOnh3Gj/lbHE1zFyWGkTZP",
      "include_colab_link": true
    },
    "kernelspec": {
      "name": "python3",
      "display_name": "Python 3"
    },
    "language_info": {
      "name": "python"
    }
  },
  "cells": [
    {
      "cell_type": "markdown",
      "metadata": {
        "id": "view-in-github",
        "colab_type": "text"
      },
      "source": [
        "<a href=\"https://colab.research.google.com/github/Jhonata-Tirloni/airbnb-RiodeJaneiro-imoveis/blob/main/Curso_1_Machine_Learning_Introdu%C3%A7%C3%A3o_a_classifica%C3%A7%C3%A3o_com_SKLEARN.ipynb\" target=\"_parent\"><img src=\"https://colab.research.google.com/assets/colab-badge.svg\" alt=\"Open In Colab\"/></a>"
      ]
    },
    {
      "cell_type": "markdown",
      "source": [
        "# **Curso 1. Machine Learning: Introdução a classificação com SKLEARN**"
      ],
      "metadata": {
        "id": "F84iQie-UtiJ"
      }
    },
    {
      "cell_type": "markdown",
      "source": [
        "## Introdução\n",
        "\n",
        "Machine Learning é o ato de, através de algoritmos matemáticos, fazer com que o a *máquina* (o computador) aprenda determinadas características de situações e/ou objetos e realize determinadas análises preditivas para com base neste conhecimento.\n",
        "\n",
        "Neste curso teremos a introdução ao tema, através das análises do tipo **classificação** com a utilização da biblioteca *SKLEARN*."
      ],
      "metadata": {
        "id": "Qdor8f34U7SK"
      }
    },
    {
      "cell_type": "markdown",
      "source": [
        "## Primeiro Projeto - Aulas 3 e 4\n",
        "\n",
        "Neste projeto vamos criar um algoritmo de classificação simples, com apenas três **features** (características, ou as colunas de um arquivo em excel) e duas **classes** (tipo de resultado que quero, onde no nosso caso será 1 ou 0). O algoritmo será capaz de predizer se o animal que colocarmos os valores será um porquinho ou um cachorro."
      ],
      "metadata": {
        "id": "_U6-1sQWVhxI"
      }
    },
    {
      "cell_type": "markdown",
      "source": [
        "### 1. Criação das features\n",
        "\n",
        "Teremos as seguintes features no nosso projeto:\n",
        "* **pelo_longo**: Se **1** significa que sim, e se **0** significa que não;\n",
        "* **perna_curta**: Se **1** significa que sim, e se **0** significa que não;\n",
        "* **faz_auau**: Se **1** significa que sim, e se **0** significa que não;"
      ],
      "metadata": {
        "id": "CWdU6caLXLbw"
      }
    },
    {
      "cell_type": "code",
      "source": [
        "# Cada feature será representada, apenas, por 0 e 1;\n",
        "porco1 = [0, 1, 0]\n",
        "porco2 = [0, 1, 1]\n",
        "porco3 = [1, 1, 0]\n",
        "\n",
        "cachorro1 = [0, 1, 1]\n",
        "cachorro2 = [1, 0, 1]\n",
        "cachorro3 = [1, 1, 1]\n",
        "\n",
        "# 1 = porco, 0 = cachorro\n",
        "treino_x = [porco1, porco2, porco3, cachorro1, cachorro2, cachorro3]\n",
        "treino_y = [1,1,1,0,0,0] # Ou também conhecida como Labels"
      ],
      "metadata": {
        "id": "d7G69ik1XHOF"
      },
      "execution_count": 1,
      "outputs": []
    },
    {
      "cell_type": "markdown",
      "source": [
        "### 2. Modelo e predições"
      ],
      "metadata": {
        "id": "2yMoyaCMcN9E"
      }
    },
    {
      "cell_type": "code",
      "source": [
        "from sklearn.svm import LinearSVC\n",
        "\n",
        "model = LinearSVC()\n",
        "model.fit(treino_x, treino_y)"
      ],
      "metadata": {
        "colab": {
          "base_uri": "https://localhost:8080/"
        },
        "id": "hEMem0dLYzLU",
        "outputId": "c1db51cd-c212-4650-c620-c6d7d8ce23c9"
      },
      "execution_count": 2,
      "outputs": [
        {
          "output_type": "execute_result",
          "data": {
            "text/plain": [
              "LinearSVC()"
            ]
          },
          "metadata": {},
          "execution_count": 2
        }
      ]
    },
    {
      "cell_type": "code",
      "source": [
        "animal_misterioso = [1,1,1]\n",
        "model.predict([animal_misterioso])"
      ],
      "metadata": {
        "colab": {
          "base_uri": "https://localhost:8080/"
        },
        "id": "1Gs2WpnjZs8P",
        "outputId": "90ebe152-133c-44fe-d407-a25421c95873"
      },
      "execution_count": 3,
      "outputs": [
        {
          "output_type": "execute_result",
          "data": {
            "text/plain": [
              "array([0])"
            ]
          },
          "metadata": {},
          "execution_count": 3
        }
      ]
    },
    {
      "cell_type": "code",
      "source": [
        "misterio_1 = [1, 1, 1]\n",
        "misterio_2 = [1, 1, 0]\n",
        "misterio_3 = [0, 1, 1]\n",
        "\n",
        "teste_x = [misterio_1, misterio_2, misterio_3]\n",
        "teste_y = [0, 1, 1]\n"
      ],
      "metadata": {
        "id": "NCPe9O79Z66A"
      },
      "execution_count": 4,
      "outputs": []
    },
    {
      "cell_type": "code",
      "source": [
        "previsoes = model.predict(teste_x)\n"
      ],
      "metadata": {
        "id": "gVa4opPKddT0"
      },
      "execution_count": 5,
      "outputs": []
    },
    {
      "cell_type": "code",
      "source": [
        "previsoes == teste_y"
      ],
      "metadata": {
        "colab": {
          "base_uri": "https://localhost:8080/"
        },
        "id": "Jt_d1spQaozP",
        "outputId": "28b50cd5-32c4-4cbe-e1aa-76369510c430"
      },
      "execution_count": 6,
      "outputs": [
        {
          "output_type": "execute_result",
          "data": {
            "text/plain": [
              "array([ True,  True, False])"
            ]
          },
          "metadata": {},
          "execution_count": 6
        }
      ]
    },
    {
      "cell_type": "markdown",
      "source": [
        "### 3. Medição de acurácia"
      ],
      "metadata": {
        "id": "Dsb4DIl9cZRv"
      }
    },
    {
      "cell_type": "code",
      "source": [
        "corretos = (previsoes==teste_y).sum()\n",
        "total=len(teste_x)\n",
        "taxa_de_acerto = corretos/total\n",
        "print(\"Taxa de acerto: %.2f\" % (taxa_de_acerto * 100),\"%\")"
      ],
      "metadata": {
        "colab": {
          "base_uri": "https://localhost:8080/"
        },
        "id": "IDXM10bQa4Ts",
        "outputId": "4844c87c-1a27-46ac-a497-2c2d5caed776"
      },
      "execution_count": 11,
      "outputs": [
        {
          "output_type": "stream",
          "name": "stdout",
          "text": [
            "Taxa de acerto: 66.67 %\n"
          ]
        }
      ]
    },
    {
      "cell_type": "code",
      "source": [
        "from sklearn.metrics import accuracy_score\n",
        "\n",
        "taxa_de_acerto2 = accuracy_score(teste_y, previsoes)\n",
        "\n",
        "print(\"Taxa de acerto: %.2f\" % (taxa_de_acerto2 * 100),\"%\")"
      ],
      "metadata": {
        "colab": {
          "base_uri": "https://localhost:8080/"
        },
        "id": "O1BeCdY4batr",
        "outputId": "58d01b35-8fdd-4a6f-c04b-0eddebdc0ff3"
      },
      "execution_count": 12,
      "outputs": [
        {
          "output_type": "stream",
          "name": "stdout",
          "text": [
            "Taxa de acerto: 66.67 %\n"
          ]
        }
      ]
    },
    {
      "cell_type": "markdown",
      "source": [
        "## **Segundo projeto - Lendo e manipulando dados da internet**"
      ],
      "metadata": {
        "id": "ih5SR0_Ig5YF"
      }
    },
    {
      "cell_type": "markdown",
      "source": [
        "### Leitura dos dados (csv) da internet"
      ],
      "metadata": {
        "id": "7kN4AZYLm3dJ"
      }
    },
    {
      "cell_type": "code",
      "source": [
        "import pandas as pd\n",
        "\n",
        "uri = \"https://gist.githubusercontent.com/guilhermesilveira/2d2efa37d66b6c84a722ea627a897ced/raw/10968b997d885cbded1c92938c7a9912ba41c615/tracking.csv\"\n",
        "dados = pd.read_csv(uri)"
      ],
      "metadata": {
        "id": "t4vluTENhRnB"
      },
      "execution_count": 14,
      "outputs": []
    },
    {
      "cell_type": "markdown",
      "source": [
        "### Renomeando as features da tabela"
      ],
      "metadata": {
        "id": "OqsnlJ6Xm9h9"
      }
    },
    {
      "cell_type": "code",
      "source": [
        "mapa = {\n",
        "    \"home\":\"inicio\",\n",
        "    \"how_it_works\":\"como_funciona\",\n",
        "    \"contact\":\"contato\",\n",
        "    \"bought\":\"comprou\"\n",
        "}\n",
        "\n",
        "dados = dados.rename(columns=mapa)"
      ],
      "metadata": {
        "id": "7xo5ZQBSjlrD"
      },
      "execution_count": 18,
      "outputs": []
    },
    {
      "cell_type": "code",
      "source": [
        "dados.head()"
      ],
      "metadata": {
        "colab": {
          "base_uri": "https://localhost:8080/",
          "height": 206
        },
        "id": "fOIwNCnejZxs",
        "outputId": "9ddacd98-0b5f-49a2-ef6b-ff5fbebf31af"
      },
      "execution_count": 19,
      "outputs": [
        {
          "output_type": "execute_result",
          "data": {
            "text/plain": [
              "   inicio  como_funciona  contato  comprou\n",
              "0       1              1        0        0\n",
              "1       1              1        0        0\n",
              "2       1              1        0        0\n",
              "3       1              1        0        0\n",
              "4       1              1        0        0"
            ],
            "text/html": [
              "\n",
              "  <div id=\"df-c3918b98-c739-4582-9b97-6a675138966f\">\n",
              "    <div class=\"colab-df-container\">\n",
              "      <div>\n",
              "<style scoped>\n",
              "    .dataframe tbody tr th:only-of-type {\n",
              "        vertical-align: middle;\n",
              "    }\n",
              "\n",
              "    .dataframe tbody tr th {\n",
              "        vertical-align: top;\n",
              "    }\n",
              "\n",
              "    .dataframe thead th {\n",
              "        text-align: right;\n",
              "    }\n",
              "</style>\n",
              "<table border=\"1\" class=\"dataframe\">\n",
              "  <thead>\n",
              "    <tr style=\"text-align: right;\">\n",
              "      <th></th>\n",
              "      <th>inicio</th>\n",
              "      <th>como_funciona</th>\n",
              "      <th>contato</th>\n",
              "      <th>comprou</th>\n",
              "    </tr>\n",
              "  </thead>\n",
              "  <tbody>\n",
              "    <tr>\n",
              "      <th>0</th>\n",
              "      <td>1</td>\n",
              "      <td>1</td>\n",
              "      <td>0</td>\n",
              "      <td>0</td>\n",
              "    </tr>\n",
              "    <tr>\n",
              "      <th>1</th>\n",
              "      <td>1</td>\n",
              "      <td>1</td>\n",
              "      <td>0</td>\n",
              "      <td>0</td>\n",
              "    </tr>\n",
              "    <tr>\n",
              "      <th>2</th>\n",
              "      <td>1</td>\n",
              "      <td>1</td>\n",
              "      <td>0</td>\n",
              "      <td>0</td>\n",
              "    </tr>\n",
              "    <tr>\n",
              "      <th>3</th>\n",
              "      <td>1</td>\n",
              "      <td>1</td>\n",
              "      <td>0</td>\n",
              "      <td>0</td>\n",
              "    </tr>\n",
              "    <tr>\n",
              "      <th>4</th>\n",
              "      <td>1</td>\n",
              "      <td>1</td>\n",
              "      <td>0</td>\n",
              "      <td>0</td>\n",
              "    </tr>\n",
              "  </tbody>\n",
              "</table>\n",
              "</div>\n",
              "      <button class=\"colab-df-convert\" onclick=\"convertToInteractive('df-c3918b98-c739-4582-9b97-6a675138966f')\"\n",
              "              title=\"Convert this dataframe to an interactive table.\"\n",
              "              style=\"display:none;\">\n",
              "        \n",
              "  <svg xmlns=\"http://www.w3.org/2000/svg\" height=\"24px\"viewBox=\"0 0 24 24\"\n",
              "       width=\"24px\">\n",
              "    <path d=\"M0 0h24v24H0V0z\" fill=\"none\"/>\n",
              "    <path d=\"M18.56 5.44l.94 2.06.94-2.06 2.06-.94-2.06-.94-.94-2.06-.94 2.06-2.06.94zm-11 1L8.5 8.5l.94-2.06 2.06-.94-2.06-.94L8.5 2.5l-.94 2.06-2.06.94zm10 10l.94 2.06.94-2.06 2.06-.94-2.06-.94-.94-2.06-.94 2.06-2.06.94z\"/><path d=\"M17.41 7.96l-1.37-1.37c-.4-.4-.92-.59-1.43-.59-.52 0-1.04.2-1.43.59L10.3 9.45l-7.72 7.72c-.78.78-.78 2.05 0 2.83L4 21.41c.39.39.9.59 1.41.59.51 0 1.02-.2 1.41-.59l7.78-7.78 2.81-2.81c.8-.78.8-2.07 0-2.86zM5.41 20L4 18.59l7.72-7.72 1.47 1.35L5.41 20z\"/>\n",
              "  </svg>\n",
              "      </button>\n",
              "      \n",
              "  <style>\n",
              "    .colab-df-container {\n",
              "      display:flex;\n",
              "      flex-wrap:wrap;\n",
              "      gap: 12px;\n",
              "    }\n",
              "\n",
              "    .colab-df-convert {\n",
              "      background-color: #E8F0FE;\n",
              "      border: none;\n",
              "      border-radius: 50%;\n",
              "      cursor: pointer;\n",
              "      display: none;\n",
              "      fill: #1967D2;\n",
              "      height: 32px;\n",
              "      padding: 0 0 0 0;\n",
              "      width: 32px;\n",
              "    }\n",
              "\n",
              "    .colab-df-convert:hover {\n",
              "      background-color: #E2EBFA;\n",
              "      box-shadow: 0px 1px 2px rgba(60, 64, 67, 0.3), 0px 1px 3px 1px rgba(60, 64, 67, 0.15);\n",
              "      fill: #174EA6;\n",
              "    }\n",
              "\n",
              "    [theme=dark] .colab-df-convert {\n",
              "      background-color: #3B4455;\n",
              "      fill: #D2E3FC;\n",
              "    }\n",
              "\n",
              "    [theme=dark] .colab-df-convert:hover {\n",
              "      background-color: #434B5C;\n",
              "      box-shadow: 0px 1px 3px 1px rgba(0, 0, 0, 0.15);\n",
              "      filter: drop-shadow(0px 1px 2px rgba(0, 0, 0, 0.3));\n",
              "      fill: #FFFFFF;\n",
              "    }\n",
              "  </style>\n",
              "\n",
              "      <script>\n",
              "        const buttonEl =\n",
              "          document.querySelector('#df-c3918b98-c739-4582-9b97-6a675138966f button.colab-df-convert');\n",
              "        buttonEl.style.display =\n",
              "          google.colab.kernel.accessAllowed ? 'block' : 'none';\n",
              "\n",
              "        async function convertToInteractive(key) {\n",
              "          const element = document.querySelector('#df-c3918b98-c739-4582-9b97-6a675138966f');\n",
              "          const dataTable =\n",
              "            await google.colab.kernel.invokeFunction('convertToInteractive',\n",
              "                                                     [key], {});\n",
              "          if (!dataTable) return;\n",
              "\n",
              "          const docLinkHtml = 'Like what you see? Visit the ' +\n",
              "            '<a target=\"_blank\" href=https://colab.research.google.com/notebooks/data_table.ipynb>data table notebook</a>'\n",
              "            + ' to learn more about interactive tables.';\n",
              "          element.innerHTML = '';\n",
              "          dataTable['output_type'] = 'display_data';\n",
              "          await google.colab.output.renderOutput(dataTable, element);\n",
              "          const docLink = document.createElement('div');\n",
              "          docLink.innerHTML = docLinkHtml;\n",
              "          element.appendChild(docLink);\n",
              "        }\n",
              "      </script>\n",
              "    </div>\n",
              "  </div>\n",
              "  "
            ]
          },
          "metadata": {},
          "execution_count": 19
        }
      ]
    },
    {
      "cell_type": "code",
      "source": [
        "dados.shape"
      ],
      "metadata": {
        "colab": {
          "base_uri": "https://localhost:8080/"
        },
        "id": "PjaNK7P5jb48",
        "outputId": "e93e68af-259f-483c-b38b-f1ae9dc3df7d"
      },
      "execution_count": 20,
      "outputs": [
        {
          "output_type": "execute_result",
          "data": {
            "text/plain": [
              "(99, 4)"
            ]
          },
          "metadata": {},
          "execution_count": 20
        }
      ]
    },
    {
      "cell_type": "markdown",
      "source": [
        "### Separação dos dados em x, y, teste e treino"
      ],
      "metadata": {
        "id": "cdU56Lo_nCgo"
      }
    },
    {
      "cell_type": "code",
      "source": [
        "x = dados[[\"inicio\", \"como_funciona\", \"contato\"]]\n",
        "y = dados[\"comprou\"]"
      ],
      "metadata": {
        "id": "Wtf2Fk_vlh7q"
      },
      "execution_count": 31,
      "outputs": []
    },
    {
      "cell_type": "code",
      "source": [
        "from sklearn.model_selection import train_test_split\n",
        "\n",
        "SEED = 20\n",
        "\n",
        "treino_x, teste_x, treino_y, teste_y = train_test_split(x, \n",
        "                                                        y, \n",
        "                                                        random_state = SEED, \n",
        "                                                        test_size = 0.25,\n",
        "                                                        stratify = y)\n",
        "\n",
        "print(\"Treinaremos com %d elementos e testaremos com %d elementos.\" % (len(treino_x), len(teste_x)))\n"
      ],
      "metadata": {
        "colab": {
          "base_uri": "https://localhost:8080/"
        },
        "id": "SivAVebdnycd",
        "outputId": "5cb0b6bf-805f-42af-a2ca-0c462a03f2b4"
      },
      "execution_count": 50,
      "outputs": [
        {
          "output_type": "stream",
          "name": "stdout",
          "text": [
            "Treinaremos com 74 elementos e testaremos com 25 elementos.\n"
          ]
        }
      ]
    },
    {
      "cell_type": "markdown",
      "source": [
        "### Criação, treinamento e acurácia do modelo"
      ],
      "metadata": {
        "id": "VNznG1BOnJVX"
      }
    },
    {
      "cell_type": "code",
      "source": [
        "from sklearn.svm import LinearSVC\n",
        "from sklearn.metrics import accuracy_score\n",
        "\n",
        "model = LinearSVC()\n",
        "model.fit(treino_x, treino_y)\n",
        "previsoes = model.predict(teste_x)\n",
        "\n",
        "\n",
        "acuracia = accuracy_score(teste_y, previsoes) * 100\n",
        "\n",
        "print(\"Acurácia atual: %.2f%%\" % acuracia)"
      ],
      "metadata": {
        "colab": {
          "base_uri": "https://localhost:8080/"
        },
        "id": "8ScKi8OlkgTV",
        "outputId": "21d87ad3-a8a2-43b2-e2b2-6d916c9c83d7"
      },
      "execution_count": 51,
      "outputs": [
        {
          "output_type": "stream",
          "name": "stdout",
          "text": [
            "Acurácia atual: 96.00%\n"
          ]
        }
      ]
    },
    {
      "cell_type": "code",
      "source": [
        ""
      ],
      "metadata": {
        "id": "K1Qkt7oxpPjr"
      },
      "execution_count": null,
      "outputs": []
    }
  ]
}